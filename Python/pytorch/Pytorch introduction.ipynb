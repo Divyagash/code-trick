{
 "cells": [
  {
   "cell_type": "code",
   "execution_count": 2,
   "metadata": {},
   "outputs": [],
   "source": [
    "# Setting seeds to try and ensure we have the same results - this is not guaranteed across PyTorch releases.\n",
    "import torch\n",
    "torch.manual_seed(0)\n",
    "torch.backends.cudnn.deterministic = True\n",
    "torch.backends.cudnn.benchmark = False\n",
    "\n",
    "import numpy as np\n",
    "np.random.seed(0)"
   ]
  },
  {
   "cell_type": "markdown",
   "metadata": {},
   "source": [
    "intialize torch device"
   ]
  },
  {
   "cell_type": "code",
   "execution_count": 3,
   "metadata": {},
   "outputs": [
    {
     "name": "stdout",
     "output_type": "stream",
     "text": [
      "cpu\n"
     ]
    }
   ],
   "source": [
    "device = torch.device(\"cuda\" if torch.cuda.is_available() else \"cpu\")\n",
    "print(device)"
   ]
  },
  {
   "cell_type": "markdown",
   "metadata": {},
   "source": [
    "Download Fashion MNIST dataset"
   ]
  },
  {
   "cell_type": "code",
   "execution_count": 6,
   "metadata": {},
   "outputs": [
    {
     "name": "stdout",
     "output_type": "stream",
     "text": [
      "Downloading http://fashion-mnist.s3-website.eu-central-1.amazonaws.com/train-images-idx3-ubyte.gz to /Users/Divy/.pytorch/FMNIST/FashionMNIST/raw/train-images-idx3-ubyte.gz\n"
     ]
    },
    {
     "name": "stderr",
     "output_type": "stream",
     "text": [
      "100.0%"
     ]
    },
    {
     "name": "stdout",
     "output_type": "stream",
     "text": [
      "Extracting /Users/Divy/.pytorch/FMNIST/FashionMNIST/raw/train-images-idx3-ubyte.gz to /Users/Divy/.pytorch/FMNIST/FashionMNIST/raw\n",
      "Downloading http://fashion-mnist.s3-website.eu-central-1.amazonaws.com/train-labels-idx1-ubyte.gz to /Users/Divy/.pytorch/FMNIST/FashionMNIST/raw/train-labels-idx1-ubyte.gz\n"
     ]
    },
    {
     "name": "stderr",
     "output_type": "stream",
     "text": [
      "111.0%"
     ]
    },
    {
     "name": "stdout",
     "output_type": "stream",
     "text": [
      "Extracting /Users/Divy/.pytorch/FMNIST/FashionMNIST/raw/train-labels-idx1-ubyte.gz to /Users/Divy/.pytorch/FMNIST/FashionMNIST/raw\n",
      "Downloading http://fashion-mnist.s3-website.eu-central-1.amazonaws.com/t10k-images-idx3-ubyte.gz to /Users/Divy/.pytorch/FMNIST/FashionMNIST/raw/t10k-images-idx3-ubyte.gz\n"
     ]
    },
    {
     "name": "stderr",
     "output_type": "stream",
     "text": [
      "100.0%"
     ]
    },
    {
     "name": "stdout",
     "output_type": "stream",
     "text": [
      "Extracting /Users/Divy/.pytorch/FMNIST/FashionMNIST/raw/t10k-images-idx3-ubyte.gz to /Users/Divy/.pytorch/FMNIST/FashionMNIST/raw\n",
      "Downloading http://fashion-mnist.s3-website.eu-central-1.amazonaws.com/t10k-labels-idx1-ubyte.gz to /Users/Divy/.pytorch/FMNIST/FashionMNIST/raw/t10k-labels-idx1-ubyte.gz\n"
     ]
    },
    {
     "name": "stderr",
     "output_type": "stream",
     "text": [
      "159.1%/Library/Frameworks/Python.framework/Versions/3.6/lib/python3.6/site-packages/torchvision/datasets/mnist.py:469: UserWarning: The given NumPy array is not writeable, and PyTorch does not support non-writeable tensors. This means you can write to the underlying (supposedly non-writeable) NumPy array using the tensor. You may want to copy the array to protect its data or make it writeable before converting it to a tensor. This type of warning will be suppressed for the rest of this program. (Triggered internally at  ../torch/csrc/utils/tensor_numpy.cpp:141.)\n",
      "  return torch.from_numpy(parsed.astype(m[2], copy=False)).view(*s)\n"
     ]
    },
    {
     "name": "stdout",
     "output_type": "stream",
     "text": [
      "Extracting /Users/Divy/.pytorch/FMNIST/FashionMNIST/raw/t10k-labels-idx1-ubyte.gz to /Users/Divy/.pytorch/FMNIST/FashionMNIST/raw\n",
      "Processing...\n",
      "Done!\n"
     ]
    }
   ],
   "source": [
    "from torchvision import datasets, transforms\n",
    "import torch.nn.functional as F\n",
    "from torch import nn\n",
    "\n",
    "mean, std = (0.5,), (0.5,)\n",
    "\n",
    "# Create a transform and normalise data\n",
    "transform = transforms.Compose([transforms.ToTensor(),\n",
    "                                transforms.Normalize(mean, std)\n",
    "                              ])\n",
    "\n",
    "# Download FMNIST training dataset and load training data\n",
    "trainset = datasets.FashionMNIST('~/.pytorch/FMNIST/', download=True, train=True, transform=transform)\n",
    "trainloader = torch.utils.data.DataLoader(trainset, batch_size=64, shuffle=True)\n",
    "\n",
    "# Download FMNIST test dataset and load test data\n",
    "testset = datasets.FashionMNIST('~/.pytorch/FMNIST/', download=True, train=False, transform=transform)\n",
    "testloader = torch.utils.data.DataLoader(testset, batch_size=64, shuffle=False)"
   ]
  },
  {
   "cell_type": "markdown",
   "metadata": {},
   "source": [
    "Train a 3 layered Neural Network"
   ]
  },
  {
   "cell_type": "code",
   "execution_count": 7,
   "metadata": {},
   "outputs": [],
   "source": [
    "class FMNIST(nn.Module):\n",
    "  def __init__(self):\n",
    "    super().__init__()\n",
    "    self.fc1 = nn.Linear(784, 128)\n",
    "    self.fc2 = nn.Linear(128,64)\n",
    "    self.fc3 = nn.Linear(64,10)\n",
    "    \n",
    "  def forward(self, x):\n",
    "    x = x.view(x.shape[0], -1)\n",
    "    \n",
    "    x = F.relu(self.fc1(x))\n",
    "    x = F.relu(self.fc2(x))\n",
    "    x = self.fc3(x)\n",
    "    x = F.log_softmax(x, dim=1)\n",
    "    \n",
    "    return x\n",
    "\n",
    "model = FMNIST()"
   ]
  },
  {
   "cell_type": "code",
   "execution_count": 8,
   "metadata": {},
   "outputs": [
    {
     "data": {
      "text/plain": [
       "FMNIST(\n",
       "  (fc1): Linear(in_features=784, out_features=128, bias=True)\n",
       "  (fc2): Linear(in_features=128, out_features=64, bias=True)\n",
       "  (fc3): Linear(in_features=64, out_features=10, bias=True)\n",
       ")"
      ]
     },
     "execution_count": 8,
     "metadata": {},
     "output_type": "execute_result"
    }
   ],
   "source": [
    "model.to(device)"
   ]
  },
  {
   "cell_type": "markdown",
   "metadata": {},
   "source": [
    "Loss function is the nagtive log likelihood function\n",
    "Use Stochastic Gradient Descent for optimization"
   ]
  },
  {
   "cell_type": "code",
   "execution_count": null,
   "metadata": {},
   "outputs": [],
   "source": []
  },
  {
   "cell_type": "code",
   "execution_count": 9,
   "metadata": {},
   "outputs": [
    {
     "name": "stdout",
     "output_type": "stream",
     "text": [
      "Epoch(1/30) | Training loss: 1.0506172677092969 | Test loss: 0.6661032394618746 | Accuracy : 0.746\n",
      "Epoch(2/30) | Training loss: 0.5749047503574316 | Test loss: 0.5507012668308938 | Accuracy : 0.7998\n",
      "Epoch(3/30) | Training loss: 0.49997957546446625 | Test loss: 0.5072517006830045 | Accuracy : 0.8175\n",
      "Epoch(4/30) | Training loss: 0.46380886688097706 | Test loss: 0.4842930465557013 | Accuracy : 0.8288\n",
      "Epoch(5/30) | Training loss: 0.44041868526417055 | Test loss: 0.46735225456535434 | Accuracy : 0.8311\n",
      "Epoch(6/30) | Training loss: 0.4229095127187304 | Test loss: 0.4533789019296124 | Accuracy : 0.8353\n",
      "Epoch(7/30) | Training loss: 0.40856621918012337 | Test loss: 0.4421798802295308 | Accuracy : 0.8387\n",
      "Epoch(8/30) | Training loss: 0.39533691344929656 | Test loss: 0.43119541788177124 | Accuracy : 0.8437\n",
      "Epoch(9/30) | Training loss: 0.3853411403006074 | Test loss: 0.43619369302585626 | Accuracy : 0.8433\n",
      "Epoch(10/30) | Training loss: 0.37380500477768464 | Test loss: 0.4102728105844206 | Accuracy : 0.8503\n",
      "Epoch(11/30) | Training loss: 0.36569498218834273 | Test loss: 0.4038132075101707 | Accuracy : 0.855\n",
      "Epoch(12/30) | Training loss: 0.3568490590495087 | Test loss: 0.4001760420146262 | Accuracy : 0.856\n",
      "Epoch(13/30) | Training loss: 0.34948287420530816 | Test loss: 0.4002778996138056 | Accuracy : 0.8568\n",
      "Epoch(14/30) | Training loss: 0.34165356704579997 | Test loss: 0.38386692438915276 | Accuracy : 0.861\n",
      "Epoch(15/30) | Training loss: 0.33605759578155303 | Test loss: 0.3831661301813308 | Accuracy : 0.8612\n",
      "Epoch(16/30) | Training loss: 0.32954889218181943 | Test loss: 0.3919984522708662 | Accuracy : 0.8609\n",
      "Epoch(17/30) | Training loss: 0.3234107472987444 | Test loss: 0.3759982461097893 | Accuracy : 0.86\n",
      "Epoch(18/30) | Training loss: 0.3180955556282865 | Test loss: 0.37337152394139844 | Accuracy : 0.8646\n",
      "Epoch(19/30) | Training loss: 0.31224752088059493 | Test loss: 0.37731540905442207 | Accuracy : 0.8642\n",
      "Epoch(20/30) | Training loss: 0.3076060847210477 | Test loss: 0.35924847357592005 | Accuracy : 0.8723\n",
      "Epoch(21/30) | Training loss: 0.30299066862603746 | Test loss: 0.37158378987175644 | Accuracy : 0.8655\n",
      "Epoch(22/30) | Training loss: 0.29866867807945974 | Test loss: 0.36790124891669884 | Accuracy : 0.8684\n",
      "Epoch(23/30) | Training loss: 0.2937707482163967 | Test loss: 0.3491731330657461 | Accuracy : 0.8753\n",
      "Epoch(24/30) | Training loss: 0.289376922944652 | Test loss: 0.36746794042313935 | Accuracy : 0.8676\n",
      "Epoch(25/30) | Training loss: 0.28556915120021115 | Test loss: 0.3517707440124196 | Accuracy : 0.8735\n",
      "Epoch(26/30) | Training loss: 0.2811418431463526 | Test loss: 0.35501224438475953 | Accuracy : 0.8714\n",
      "Epoch(27/30) | Training loss: 0.27697421091674235 | Test loss: 0.3454962817916445 | Accuracy : 0.8775\n",
      "Epoch(28/30) | Training loss: 0.2731285960292384 | Test loss: 0.3803013651424153 | Accuracy : 0.8594\n",
      "Epoch(29/30) | Training loss: 0.26922710034956554 | Test loss: 0.3541263233704172 | Accuracy : 0.8752\n",
      "Epoch(30/30) | Training loss: 0.26576908631746704 | Test loss: 0.3448924455008689 | Accuracy : 0.8752\n",
      "\n",
      "Number correct : 8752, Total : 10000\n",
      "Accuracy of the model after 30 epochs on the 10000 test images: 87.52% \n"
     ]
    }
   ],
   "source": [
    "from torch import optim\n",
    "criterion = nn.NLLLoss()\n",
    "optimizer = optim.SGD(model.parameters(), lr=0.01)\n",
    "\n",
    "num_epochs = 30\n",
    "train_tracker, test_tracker, accuracy_tracker = [], [], []\n",
    "\n",
    "\n",
    "for i in range(num_epochs):\n",
    "    cum_loss = 0\n",
    "    \n",
    "    for batch, (images, labels) in enumerate(trainloader,1):\n",
    "        images = images.to(device)\n",
    "        labels = labels.to(device)\n",
    "        \n",
    "        optimizer.zero_grad()\n",
    "        output = model(images)\n",
    "        loss = criterion(output, labels)\n",
    "        loss.backward()\n",
    "        optimizer.step()\n",
    "        \n",
    "        cum_loss += loss.item()\n",
    "    \n",
    "    train_tracker.append(cum_loss/len(trainloader))\n",
    "    print(f\"Epoch({i+1}/{num_epochs}) | Training loss: {cum_loss/len(trainloader)} | \",end='')\n",
    "    \n",
    "    test_loss = 0\n",
    "    num_correct = 0\n",
    "    total = 0\n",
    "    \n",
    "    for batch, (images, labels) in enumerate(testloader,1):\n",
    "        images = images.to(device)\n",
    "        labels = labels.to(device)\n",
    "        \n",
    "        logps = model(images)\n",
    "        batch_loss = criterion(logps, labels)        \n",
    "        test_loss += batch_loss.item()\n",
    "        \n",
    "        output = torch.exp(logps)\n",
    "        pred = torch.argmax(output, 1)\n",
    "        total += labels.size(0)\n",
    "        num_correct += (pred == labels).sum().item()\n",
    "    \n",
    "    test_tracker.append(test_loss/len(testloader))\n",
    "    print(f\"Test loss: {test_loss/len(testloader)} | \", end='')\n",
    "    accuracy_tracker.append(num_correct/total)\n",
    "    print(f'Accuracy : {num_correct/total}')        \n",
    "print(f'\\nNumber correct : {num_correct}, Total : {total}')\n",
    "print(f'Accuracy of the model after 30 epochs on the 10000 test images: {num_correct * 100 / total}% ')\n",
    "    "
   ]
  },
  {
   "cell_type": "code",
   "execution_count": 10,
   "metadata": {},
   "outputs": [
    {
     "data": {
      "text/plain": [
       "<matplotlib.legend.Legend at 0x130019438>"
      ]
     },
     "execution_count": 10,
     "metadata": {},
     "output_type": "execute_result"
    },
    {
     "data": {
      "image/png": "[encoded data removed]",
      "text/plain": [
       "<Figure size 432x288 with 1 Axes>"
      ]
     },
     "metadata": {},
     "output_type": "display_data"
    }
   ],
   "source": [
    "import matplotlib.pyplot as plt\n",
    "%matplotlib inline\n",
    "plt.plot(train_tracker, label='Training loss')\n",
    "plt.plot(test_tracker, label='Test loss')\n",
    "plt.legend()"
   ]
  },
  {
   "cell_type": "code",
   "execution_count": 11,
   "metadata": {},
   "outputs": [
    {
     "data": {
      "text/plain": [
       "<matplotlib.legend.Legend at 0x130093588>"
      ]
     },
     "execution_count": 11,
     "metadata": {},
     "output_type": "execute_result"
    },
    {
     "data": {
      "image/png": "[encoded data removed]",
      "text/plain": [
       "<Figure size 432x288 with 1 Axes>"
      ]
     },
     "metadata": {},
     "output_type": "display_data"
    }
   ],
   "source": [
    "import matplotlib.pyplot as plt\n",
    "%matplotlib inline\n",
    "plt.plot(train_tracker, label='Training loss')\n",
    "plt.plot(test_tracker, label='Test loss')\n",
    "plt.plot(accuracy_tracker, label='Test accuracy')\n",
    "plt.legend()"
   ]
  },
  {
   "cell_type": "code",
   "execution_count": null,
   "metadata": {},
   "outputs": [],
   "source": []
  },
  {
   "cell_type": "code",
   "execution_count": null,
   "metadata": {},
   "outputs": [],
   "source": [
    "# Writing the model in a different way"
   ]
  },
  {
   "cell_type": "code",
   "execution_count": 13,
   "metadata": {},
   "outputs": [],
   "source": [
    "model = nn.Sequential(nn.Linear(784, 128),\n",
    "                      nn.ReLU(),\n",
    "                      nn.Linear(128, 64),\n",
    "                      nn.ReLU(),\n",
    "                      nn.Linear(64, 10),\n",
    "                      nn.LogSoftmax(dim=1))"
   ]
  },
  {
   "cell_type": "code",
   "execution_count": 14,
   "metadata": {},
   "outputs": [
    {
     "data": {
      "text/plain": [
       "Linear(in_features=128, out_features=64, bias=True)"
      ]
     },
     "execution_count": 14,
     "metadata": {},
     "output_type": "execute_result"
    }
   ],
   "source": [
    "model[2]"
   ]
  },
  {
   "cell_type": "code",
   "execution_count": 16,
   "metadata": {},
   "outputs": [],
   "source": [
    "images, labels = next(iter(trainloader))\n",
    "images = images.view(images.shape[0], -1)"
   ]
  },
  {
   "cell_type": "code",
   "execution_count": 17,
   "metadata": {},
   "outputs": [],
   "source": [
    "criterion = nn.NLLLoss()"
   ]
  },
  {
   "cell_type": "code",
   "execution_count": 18,
   "metadata": {},
   "outputs": [
    {
     "name": "stdout",
     "output_type": "stream",
     "text": [
      "Initial weights :  Parameter containing:\n",
      "tensor([[ 0.0051,  0.0179,  0.0017,  ...,  0.0315, -0.0272,  0.0078],\n",
      "        [ 0.0293,  0.0059, -0.0291,  ..., -0.0109,  0.0138, -0.0327],\n",
      "        [-0.0008,  0.0251,  0.0082,  ...,  0.0335,  0.0009,  0.0276],\n",
      "        ...,\n",
      "        [-0.0315,  0.0096, -0.0061,  ..., -0.0310, -0.0115, -0.0239],\n",
      "        [-0.0229, -0.0269, -0.0135,  ...,  0.0110,  0.0330,  0.0326],\n",
      "        [ 0.0123,  0.0117, -0.0093,  ..., -0.0148, -0.0247, -0.0300]],\n",
      "       requires_grad=True)\n"
     ]
    }
   ],
   "source": [
    "print('Initial weights : ',model[0].weight)"
   ]
  },
  {
   "cell_type": "code",
   "execution_count": 19,
   "metadata": {},
   "outputs": [
    {
     "name": "stdout",
     "output_type": "stream",
     "text": [
      "Initial weights gradient :  None\n"
     ]
    }
   ],
   "source": [
    "print('Initial weights gradient : ',model[0].weight.grad)"
   ]
  },
  {
   "cell_type": "code",
   "execution_count": 23,
   "metadata": {},
   "outputs": [
    {
     "name": "stdout",
     "output_type": "stream",
     "text": [
      "Initial weights :  Parameter containing:\n",
      "tensor([[-0.0615, -0.0200, -0.0448,  ..., -0.0805,  0.0633, -0.0358],\n",
      "        [-0.0443,  0.0392, -0.0413,  ..., -0.0813, -0.0680, -0.0620],\n",
      "        [ 0.0398,  0.0180, -0.0865,  ..., -0.0498,  0.0298,  0.0565],\n",
      "        ...,\n",
      "        [-0.0864, -0.0486,  0.0192,  ..., -0.0374, -0.0504, -0.0870],\n",
      "        [ 0.0564, -0.0499, -0.0719,  ..., -0.0738, -0.0540,  0.0572],\n",
      "        [ 0.0654,  0.0860,  0.0080,  ...,  0.0074,  0.0698,  0.0467]],\n",
      "       requires_grad=True)\n",
      "Initial weights gradient :  tensor([[ 0.0000e+00,  1.3971e-02,  4.0811e-03,  ...,  5.7265e-03,\n",
      "         -6.7173e-03,  0.0000e+00],\n",
      "        [ 0.0000e+00,  0.0000e+00,  0.0000e+00,  ..., -3.5826e-04,\n",
      "         -6.5828e-04,  0.0000e+00],\n",
      "        [-1.3286e-04,  2.4078e-02,  5.3986e-03,  ...,  3.7277e-02,\n",
      "          7.8046e-03,  0.0000e+00],\n",
      "        ...,\n",
      "        [-1.6883e-04, -1.0425e-02, -7.7675e-03,  ..., -6.8429e-02,\n",
      "         -1.5142e-02,  0.0000e+00],\n",
      "        [-2.4155e-05,  3.7031e-04, -5.2826e-04,  ..., -1.4303e-02,\n",
      "         -1.9923e-03,  0.0000e+00],\n",
      "        [-1.0527e-03,  0.0000e+00, -1.6244e-03,  ..., -4.5917e-03,\n",
      "         -2.5710e-03,  0.0000e+00]])\n"
     ]
    }
   ],
   "source": [
    "output = model(images)\n",
    "loss = criterion(output, labels)\n",
    "loss.backward()\n",
    "print('Initial weights : ',model[2].weight)\n",
    "print('Initial weights gradient : ',model[2].weight.grad)"
   ]
  },
  {
   "cell_type": "code",
   "execution_count": 24,
   "metadata": {},
   "outputs": [
    {
     "name": "stdout",
     "output_type": "stream",
     "text": [
      "Initial weights :  Parameter containing:\n",
      "tensor([[ 7.1599e-02,  1.8776e-02, -1.1931e-01,  5.9142e-02,  5.7598e-02,\n",
      "         -1.0026e-01,  1.1968e-01,  1.3732e-02, -5.8634e-02, -8.3299e-02,\n",
      "         -3.1405e-02,  9.6558e-02,  6.5337e-02, -1.1946e-01, -6.3962e-02,\n",
      "         -1.2089e-01, -1.0322e-01, -8.7322e-02,  5.4772e-02,  4.9387e-02,\n",
      "          8.5478e-02,  1.3666e-02,  1.1819e-01, -1.7060e-02, -6.1100e-02,\n",
      "          1.1426e-01,  1.0066e-01, -1.0931e-01,  1.0464e-01, -8.3190e-02,\n",
      "          1.5348e-03,  5.7308e-03, -8.2908e-02,  4.9765e-02,  5.9728e-02,\n",
      "         -5.8260e-02, -3.6578e-02, -1.2077e-01, -8.1554e-02,  6.4767e-02,\n",
      "          6.6012e-02, -1.6674e-02,  9.4424e-02,  5.9621e-02, -6.7846e-02,\n",
      "         -1.1680e-01, -6.9972e-02, -1.7781e-02,  5.6957e-02, -1.5986e-02,\n",
      "          2.2450e-02,  7.3053e-02, -7.6301e-02,  1.2019e-01, -3.0044e-02,\n",
      "          5.5423e-02,  5.5216e-03,  1.2078e-02, -8.8433e-02,  2.9267e-02,\n",
      "         -9.7503e-02,  1.2462e-01, -1.2109e-02, -1.1708e-01],\n",
      "        [-1.0065e-01, -9.1776e-02, -7.3006e-02, -1.2761e-02, -8.7017e-02,\n",
      "          6.2057e-03,  1.6768e-02,  5.5714e-02,  7.9138e-02, -7.3714e-02,\n",
      "          2.1706e-02,  5.7013e-02,  2.6164e-02,  3.0711e-03, -8.5140e-02,\n",
      "         -1.2405e-01, -2.0366e-02,  1.1858e-01, -4.8192e-02, -5.4386e-02,\n",
      "         -8.7145e-02, -7.0505e-02,  3.5860e-02, -1.8404e-02,  3.8972e-02,\n",
      "         -7.9650e-02, -1.1251e-01,  6.5218e-02,  5.0873e-02, -2.0163e-02,\n",
      "         -3.5863e-02, -1.2586e-02, -4.2817e-02, -5.4543e-02, -1.0075e-01,\n",
      "          8.0081e-02,  9.2067e-02,  9.3578e-02,  5.0551e-02,  6.6580e-02,\n",
      "         -8.0374e-02, -7.1120e-02, -9.6415e-02,  6.3442e-02, -1.7546e-02,\n",
      "          2.7817e-02, -3.7019e-02,  8.6708e-03, -1.0219e-01, -2.7533e-02,\n",
      "          1.1560e-01, -5.4665e-02,  2.8180e-02,  1.0094e-02, -9.3133e-02,\n",
      "          1.0969e-01,  9.5102e-02,  8.3608e-02,  6.3984e-02,  4.6372e-02,\n",
      "         -5.8800e-02,  9.1605e-02, -3.9236e-02, -8.1016e-02],\n",
      "        [ 4.4300e-03, -1.0469e-01,  3.5682e-02, -1.6301e-02, -7.3402e-02,\n",
      "         -8.5095e-02, -2.1337e-02,  9.2416e-02, -1.1166e-01,  1.9242e-02,\n",
      "          1.1895e-01,  4.5876e-02, -8.4973e-02,  9.4374e-02,  5.0751e-02,\n",
      "         -2.6463e-02, -8.3526e-02, -4.8258e-02,  3.2846e-02, -6.3191e-02,\n",
      "         -9.2054e-02,  3.3378e-02, -6.3376e-03,  2.2131e-02,  1.0250e-01,\n",
      "         -9.9607e-02,  1.7830e-02,  8.8543e-02, -1.6096e-02, -9.9731e-03,\n",
      "         -1.1933e-01, -6.5738e-02,  7.0896e-03, -7.5196e-02,  2.4291e-03,\n",
      "          7.1789e-02,  4.0960e-02, -8.9181e-02,  1.0559e-01,  7.2999e-02,\n",
      "          1.0791e-01, -1.6757e-02,  1.7609e-02,  1.2009e-01, -1.0984e-01,\n",
      "         -9.6075e-02, -5.8732e-02,  4.6680e-02, -7.9397e-02, -4.1133e-02,\n",
      "          4.0765e-02,  9.9335e-02, -3.1205e-02, -2.6353e-02, -1.1562e-01,\n",
      "          1.1650e-01,  1.2477e-01, -5.3878e-02, -3.9538e-02, -2.9651e-02,\n",
      "         -4.6780e-02, -9.9237e-02, -5.9971e-02,  2.4142e-02],\n",
      "        [ 1.0296e-01,  1.0680e-01, -8.8099e-02, -3.9754e-02,  3.9804e-02,\n",
      "         -3.1087e-02, -7.6423e-02,  4.8575e-02, -2.3717e-02, -8.5367e-02,\n",
      "         -1.0160e-01, -1.0178e-01, -7.4026e-02,  1.1743e-01,  1.4687e-02,\n",
      "          8.4865e-02, -6.2032e-02,  2.2426e-02, -3.9127e-02, -7.6827e-02,\n",
      "         -9.9408e-02, -5.4716e-02, -7.5087e-02,  1.0113e-01,  1.0941e-01,\n",
      "          3.2352e-02,  1.0384e-01,  9.8972e-02, -6.2027e-02,  7.2144e-02,\n",
      "          9.6212e-02,  6.0061e-02,  5.4030e-03, -6.0159e-02, -6.5587e-03,\n",
      "         -6.9406e-02, -3.3773e-02,  1.0954e-01,  1.2086e-01,  7.8307e-02,\n",
      "         -4.8483e-02, -7.2399e-02,  9.0395e-02,  1.0585e-01, -3.2962e-02,\n",
      "          4.3994e-02,  6.8699e-02, -7.1189e-02,  8.4394e-02, -1.1006e-01,\n",
      "         -6.9908e-02,  7.0735e-02, -3.0877e-02, -5.7554e-02, -1.0395e-01,\n",
      "         -3.6178e-02,  1.2132e-02, -5.9941e-02, -8.4147e-02, -1.0259e-01,\n",
      "         -1.1084e-01, -2.0995e-03, -8.6782e-02,  6.8526e-02],\n",
      "        [ 2.8723e-02, -6.9827e-02,  1.1949e-01,  7.7094e-02, -1.1323e-01,\n",
      "          7.6791e-02, -3.1807e-02, -6.3478e-02,  8.9363e-02,  8.8243e-02,\n",
      "         -9.8632e-02, -4.1375e-02,  1.1137e-02,  2.3189e-02,  3.2562e-02,\n",
      "          6.0030e-02, -9.5769e-02,  6.6930e-02, -1.2320e-03,  1.1889e-01,\n",
      "         -8.8356e-02,  2.2176e-03,  5.7248e-02, -2.8343e-02,  1.1003e-02,\n",
      "         -1.1105e-01, -1.1421e-01, -1.2090e-01, -1.0490e-01,  8.2258e-02,\n",
      "          9.3652e-02, -6.2616e-02, -6.6095e-02, -3.2739e-02, -8.1118e-02,\n",
      "         -3.3495e-02,  5.2088e-02,  6.2063e-02, -3.3075e-02,  4.8497e-02,\n",
      "          4.0500e-02, -8.2109e-02, -5.7200e-02, -6.5972e-02,  2.3533e-02,\n",
      "          2.3660e-02, -9.5232e-02, -5.2296e-02, -7.4804e-02,  1.1254e-01,\n",
      "          3.5049e-02, -2.3490e-02, -5.9497e-02,  2.3865e-03,  7.8410e-02,\n",
      "          6.7280e-02, -3.6901e-02,  1.1340e-01,  6.7522e-02, -1.7831e-02,\n",
      "          2.8255e-02, -2.5177e-02, -8.5869e-02,  4.1436e-02],\n",
      "        [-1.2060e-01,  1.0783e-01,  8.6748e-02, -1.0771e-01,  3.6946e-02,\n",
      "         -7.8862e-02, -5.3533e-02, -1.1611e-01,  8.5188e-02,  1.0936e-01,\n",
      "          1.1917e-02,  2.8592e-02, -1.1669e-01,  9.5507e-02,  7.1575e-02,\n",
      "          1.0593e-01, -4.1647e-02, -3.1796e-02, -1.0007e-01, -3.9920e-02,\n",
      "         -4.2837e-02,  7.5957e-02,  6.1543e-02, -1.1155e-01,  6.4519e-02,\n",
      "          3.3021e-02,  7.8544e-02, -8.6694e-02, -1.2019e-01,  1.9071e-02,\n",
      "          5.0137e-02,  4.0524e-02, -1.9425e-02, -2.5008e-02, -3.8119e-02,\n",
      "         -4.5637e-02, -2.9111e-02,  9.7983e-03,  3.2622e-02, -1.1706e-01,\n",
      "         -9.7637e-02, -1.0880e-01, -4.6795e-02,  3.5935e-02, -2.7706e-02,\n",
      "         -1.0572e-01,  8.2764e-02, -1.0174e-01, -9.0389e-02,  1.0851e-01,\n",
      "          8.1899e-02,  3.2933e-02,  1.2092e-01,  1.9627e-02, -3.2398e-02,\n",
      "          8.9271e-02, -5.4218e-02, -7.7598e-02, -8.5873e-02, -9.4103e-02,\n",
      "          3.9204e-02,  3.5356e-03,  1.1592e-01, -8.2489e-02],\n",
      "        [-7.7491e-02,  1.2375e-01,  2.0858e-02,  1.6620e-02, -2.0911e-02,\n",
      "          8.4820e-02,  6.8618e-02,  4.0148e-02,  1.0488e-01, -1.1714e-01,\n",
      "          1.0090e-01, -8.1142e-02,  1.1623e-01,  4.0216e-02, -3.6816e-02,\n",
      "          9.8004e-03,  8.7936e-02,  4.8339e-03,  8.7678e-02, -4.1476e-02,\n",
      "         -1.1587e-02, -1.1754e-01, -2.5946e-02,  5.3470e-02, -7.4726e-02,\n",
      "          1.9180e-02,  2.3025e-02,  1.2370e-01,  8.6392e-02,  5.4557e-02,\n",
      "          6.6345e-02,  5.0850e-02, -6.8729e-02, -1.1294e-01, -7.0679e-02,\n",
      "          8.9230e-02, -9.4242e-02,  6.7840e-02,  1.2372e-01,  4.6011e-02,\n",
      "         -5.6074e-02, -4.1479e-02,  5.7228e-02,  1.1430e-01, -5.4022e-02,\n",
      "         -9.5633e-02, -1.0586e-01,  7.7753e-02,  1.0555e-01, -7.8443e-02,\n",
      "          1.9043e-02,  1.2162e-01, -6.4141e-02,  1.8024e-02, -2.7416e-02,\n",
      "         -4.8489e-02,  9.4870e-02,  1.0149e-01,  1.0672e-01,  4.1265e-02,\n",
      "          2.7841e-02,  6.7739e-02,  9.9919e-02, -1.1308e-01],\n",
      "        [ 3.6874e-02, -1.0038e-01,  3.6187e-02, -8.3031e-02, -1.4521e-02,\n",
      "          1.1462e-01, -1.0673e-03,  5.0072e-02,  6.5030e-02, -1.0234e-01,\n",
      "         -8.3236e-02,  2.1350e-02,  7.2800e-02,  7.5319e-02,  8.4878e-02,\n",
      "          1.6064e-02,  9.0098e-02,  9.1333e-02, -2.9969e-02,  1.2130e-02,\n",
      "         -8.8402e-02, -1.3263e-02, -3.4973e-02,  2.3885e-02,  6.8804e-02,\n",
      "         -8.0289e-02, -5.0404e-03,  9.1804e-02,  4.1873e-02, -8.8367e-03,\n",
      "         -3.0039e-02,  7.7194e-02,  4.6458e-02, -1.9997e-02, -4.9837e-02,\n",
      "         -2.5104e-02,  8.9723e-03,  1.2724e-02,  2.8884e-02,  7.0812e-02,\n",
      "          3.9142e-02, -4.5431e-02,  7.0859e-03, -3.4895e-02,  6.3686e-02,\n",
      "          6.7195e-02,  2.0576e-02, -7.8348e-02, -1.0554e-01, -9.0468e-02,\n",
      "         -5.6186e-02,  1.2323e-01,  1.0126e-01,  1.2269e-01, -7.7192e-02,\n",
      "         -4.6741e-02,  3.8306e-02, -1.1175e-01, -1.0891e-01, -7.0128e-02,\n",
      "         -7.2114e-02, -6.2368e-02, -1.2873e-02,  3.5629e-02],\n",
      "        [ 6.6923e-02, -9.6991e-02,  5.2910e-02,  1.1396e-01,  1.6447e-02,\n",
      "          1.7494e-02,  6.1290e-02, -1.2208e-01,  1.5665e-02,  1.2052e-01,\n",
      "         -8.6467e-03, -1.2392e-01, -9.4202e-02,  3.4691e-03, -3.8781e-02,\n",
      "          1.1793e-01,  4.2139e-02,  8.5221e-02,  5.3550e-02,  7.6367e-02,\n",
      "          3.7451e-02,  8.3844e-02, -9.5488e-02, -7.6045e-02, -1.0241e-01,\n",
      "          4.6802e-02,  8.7269e-02,  4.0213e-02,  2.6662e-02, -9.4246e-02,\n",
      "          2.5380e-02,  4.7402e-02,  7.7997e-02, -7.1425e-02, -1.1464e-01,\n",
      "          1.1950e-01,  1.2068e-02,  1.0533e-01, -2.2129e-02,  4.8182e-02,\n",
      "         -6.2589e-02,  9.7735e-02, -1.0136e-01, -1.1555e-01,  6.2972e-02,\n",
      "          1.2274e-01, -2.0175e-02, -4.4583e-04, -4.4133e-02,  8.6546e-02,\n",
      "          3.6496e-02,  1.1012e-01, -5.2592e-02,  1.1570e-01, -4.1225e-02,\n",
      "         -1.0115e-01,  9.7913e-02,  1.0450e-01,  1.2232e-01, -2.6586e-02,\n",
      "          5.5883e-02,  7.0413e-02, -4.1518e-03,  3.2910e-02],\n",
      "        [-9.5218e-02,  3.2994e-02, -3.9781e-02, -6.1213e-02, -1.0780e-01,\n",
      "         -1.2301e-01, -3.9163e-02, -2.5739e-03, -7.9185e-05,  7.1641e-02,\n",
      "         -8.8060e-02, -1.3425e-02,  5.8438e-02, -9.9873e-02, -8.3874e-02,\n",
      "         -8.6723e-02, -8.8000e-02, -3.7983e-02,  8.1021e-02,  4.0269e-02,\n",
      "          1.1562e-01, -5.2671e-02,  8.9690e-04,  6.7538e-02, -9.8804e-03,\n",
      "         -5.8812e-02,  4.4843e-03,  8.4007e-02, -9.6254e-02, -1.1395e-01,\n",
      "          2.7880e-03, -7.2312e-02, -1.1598e-01,  1.1261e-01,  7.9641e-02,\n",
      "         -1.1754e-01, -4.2223e-02,  1.4707e-02, -8.9512e-02,  6.6116e-02,\n",
      "          2.7151e-02, -1.2284e-01, -8.8292e-02,  7.6633e-02,  1.4065e-02,\n",
      "          7.6619e-02, -2.1660e-02,  6.7153e-02, -6.6583e-02,  3.3030e-02,\n",
      "         -1.1880e-01, -1.0942e-01, -1.7218e-02,  4.8686e-02, -4.3999e-02,\n",
      "         -2.3702e-02,  1.0336e-01,  8.0108e-02,  6.1548e-02, -9.3622e-02,\n",
      "          1.0468e-01, -9.7729e-02, -5.4825e-02,  6.0121e-03]],\n",
      "       requires_grad=True)\n",
      "Initial weights gradient :  tensor([[ 2.8777e-03, -2.5951e-04,  5.7489e-03,  2.9527e-02,  3.7622e-03,\n",
      "          2.3294e-03, -2.8675e-03,  1.9084e-02, -6.3594e-02, -3.6134e-02,\n",
      "          0.0000e+00, -5.9264e-02, -1.1035e-02, -8.6607e-02, -9.3342e-02,\n",
      "         -4.7188e-02, -2.8248e-03, -2.9884e-02, -2.4204e-02,  7.9211e-03,\n",
      "          9.9983e-05, -8.3327e-03,  1.1058e-03, -7.9936e-03,  1.0271e-02,\n",
      "          6.9017e-03, -2.6374e-04,  4.0634e-03,  0.0000e+00,  4.1969e-03,\n",
      "         -7.4348e-03,  0.0000e+00,  1.4989e-03, -6.3761e-03, -5.8235e-03,\n",
      "          1.9226e-02, -1.7350e-02,  1.1966e-03,  3.4906e-04,  4.8060e-02,\n",
      "          2.2033e-05,  2.6456e-03, -4.3374e-03, -1.0388e-02, -4.1472e-02,\n",
      "         -3.9677e-03, -1.1173e-02,  7.3131e-03,  5.1206e-03,  0.0000e+00,\n",
      "          1.7702e-03,  6.8979e-04, -4.7514e-02, -3.3643e-02,  1.4194e-02,\n",
      "          4.0559e-03, -3.4284e-02, -3.5065e-02,  5.3557e-04, -6.2388e-02,\n",
      "         -4.5458e-02, -8.7645e-03,  1.3872e-02,  7.7497e-04],\n",
      "        [ 2.1560e-03,  2.9531e-05, -2.3812e-02, -3.0042e-02,  2.3540e-02,\n",
      "          4.3816e-03,  4.6565e-04,  4.9108e-02, -2.4260e-02, -1.5930e-02,\n",
      "          0.0000e+00,  8.0259e-03,  5.1250e-03,  6.0608e-03,  4.8212e-03,\n",
      "         -5.5573e-02,  1.3792e-03,  3.2661e-02,  5.6627e-03,  3.0169e-02,\n",
      "          1.0866e-04,  5.4025e-03,  1.0577e-03, -1.3746e-02,  2.6326e-02,\n",
      "         -4.2686e-03,  7.2291e-02,  4.2524e-03,  0.0000e+00,  4.5772e-03,\n",
      "          3.1685e-02,  0.0000e+00, -7.6455e-03,  1.8298e-02, -5.0852e-03,\n",
      "          1.7636e-02, -7.5881e-02,  1.1485e-03,  3.8390e-05,  4.5799e-02,\n",
      "          1.9844e-05,  2.6226e-04, -3.8336e-03, -2.0242e-02, -5.9810e-02,\n",
      "          4.8627e-03, -1.5709e-03, -2.9129e-03, -4.3039e-04,  0.0000e+00,\n",
      "          6.3038e-02,  7.0278e-04,  1.5309e-02, -8.7960e-02, -2.3512e-02,\n",
      "          4.1446e-03, -1.5300e-02,  7.3511e-03,  1.4501e-03, -1.9642e-02,\n",
      "         -5.5350e-03, -4.9073e-03,  2.3251e-02,  8.5941e-04],\n",
      "        [ 5.3386e-03,  3.1895e-05,  1.4693e-02,  3.5273e-03, -6.0411e-03,\n",
      "          1.4243e-03,  4.3462e-04,  4.1658e-02,  1.7588e-02, -3.9315e-02,\n",
      "          0.0000e+00, -1.7257e-02,  1.0570e-03, -8.9070e-03, -3.3021e-02,\n",
      "          5.5870e-02,  1.3583e-03, -2.3476e-02, -2.0319e-02,  2.6464e-02,\n",
      "          1.0523e-04,  2.3521e-03,  1.0895e-03, -5.4551e-03,  2.7975e-02,\n",
      "          3.3479e-02, -1.0508e-02, -5.9359e-03,  0.0000e+00,  4.4106e-03,\n",
      "         -4.6666e-02,  0.0000e+00,  1.6228e-03, -2.1656e-02,  1.5439e-04,\n",
      "          1.5434e-02,  1.2045e-02,  1.2198e-03,  3.9484e-04,  1.1679e-03,\n",
      "          2.2339e-05, -6.1135e-04,  1.6305e-02,  1.9837e-02,  5.4368e-03,\n",
      "         -4.7925e-03, -1.1076e-02, -1.9546e-02, -2.0704e-03,  0.0000e+00,\n",
      "          9.7979e-03, -3.4030e-03, -1.5932e-04,  3.9705e-02, -4.5523e-03,\n",
      "         -3.3521e-03,  4.1610e-02, -2.5354e-02, -8.0561e-03,  2.7626e-02,\n",
      "          3.2079e-02, -1.0569e-02,  1.1269e-02, -7.1875e-03],\n",
      "        [ 5.5889e-03,  2.9307e-05, -2.3177e-03,  2.3481e-02,  2.1424e-02,\n",
      "          3.9442e-03,  3.9378e-04,  4.1204e-02, -1.6481e-03,  5.4709e-03,\n",
      "          0.0000e+00,  7.6328e-03,  9.1936e-03,  1.4867e-02,  1.2322e-02,\n",
      "         -7.6145e-03,  1.2726e-03,  2.7473e-02,  9.5566e-03,  1.2559e-02,\n",
      "          9.4214e-05, -1.4582e-04,  1.0255e-03, -1.4828e-02,  3.1352e-02,\n",
      "          7.5087e-03,  5.5240e-02,  4.1047e-03,  0.0000e+00,  3.9591e-03,\n",
      "          1.5647e-02,  0.0000e+00, -9.9849e-04,  1.3963e-02,  1.0444e-03,\n",
      "          1.5083e-02, -4.1503e-03,  1.1626e-03,  3.6424e-04,  4.1427e-02,\n",
      "          2.2553e-05,  2.4462e-03,  2.6799e-02, -4.5288e-03,  1.6558e-02,\n",
      "          1.6275e-03, -2.8250e-03,  2.9656e-02,  1.0363e-02,  0.0000e+00,\n",
      "          3.4489e-02,  6.6576e-04,  2.3609e-02, -1.4886e-02,  1.2771e-02,\n",
      "          3.8229e-03, -1.3721e-02,  1.2709e-02, -2.2042e-03,  8.8194e-03,\n",
      "         -1.6740e-02, -4.7978e-03,  2.1486e-02,  7.8302e-04],\n",
      "        [ 6.0467e-03,  2.6252e-05,  1.4365e-02, -6.0948e-03,  5.3093e-03,\n",
      "         -4.0447e-03,  4.3505e-04,  3.7347e-02,  3.8578e-02,  8.4897e-03,\n",
      "          0.0000e+00,  2.2185e-02,  1.2331e-02,  1.8354e-02,  4.1042e-02,\n",
      "          6.4651e-02,  1.1744e-03,  1.7097e-02,  6.3866e-03,  2.1906e-02,\n",
      "          9.4011e-05,  2.6277e-03,  9.4313e-04,  2.0586e-02,  3.5483e-02,\n",
      "          2.1299e-02,  1.9144e-02,  3.7775e-03,  0.0000e+00,  3.6815e-03,\n",
      "         -1.0332e-02,  0.0000e+00,  1.4545e-03, -2.6489e-02,  3.0811e-03,\n",
      "          1.9377e-02,  4.8327e-02,  1.0570e-03,  3.3692e-04, -1.1365e-04,\n",
      "          1.9223e-05,  1.5073e-03,  5.7382e-03,  1.7497e-02,  1.0423e-02,\n",
      "         -8.0215e-03, -3.2753e-03, -1.3564e-02, -2.4799e-05,  0.0000e+00,\n",
      "          2.9654e-02, -1.1981e-03,  4.6160e-02,  1.0380e-02,  1.2619e-02,\n",
      "          1.3819e-03,  3.6665e-02, -2.8491e-03, -2.3432e-03,  1.5359e-02,\n",
      "          2.0361e-02,  1.0594e-02, -1.1471e-02,  7.8566e-04],\n",
      "        [ 1.0267e-03,  3.0438e-05,  1.6122e-03,  1.2002e-02,  9.3061e-03,\n",
      "          4.1636e-03,  4.5653e-04,  1.3684e-02,  5.0140e-02,  3.9212e-02,\n",
      "          0.0000e+00,  8.1477e-02,  2.9876e-03,  2.6177e-02,  5.1541e-02,\n",
      "          2.3815e-02,  1.3020e-03,  4.8852e-02,  8.4156e-03, -1.9671e-02,\n",
      "          1.1219e-04, -7.3161e-04,  1.0073e-03, -9.1195e-03, -1.4109e-02,\n",
      "          3.6024e-02,  1.1884e-02, -1.8165e-03,  0.0000e+00,  3.6039e-03,\n",
      "          2.9245e-02,  0.0000e+00, -1.6425e-03,  2.9971e-02,  3.1609e-03,\n",
      "         -8.7141e-03,  3.8236e-02, -2.6543e-03, -5.4696e-04,  2.6820e-02,\n",
      "         -1.8579e-04,  2.5556e-03,  2.4666e-03, -1.7640e-02,  7.5454e-02,\n",
      "          4.6500e-03,  8.4438e-03,  4.1414e-02, -1.0310e-02,  0.0000e+00,\n",
      "          2.0037e-02, -1.2943e-04,  3.8335e-02,  4.3769e-02, -1.6964e-02,\n",
      "          3.8360e-03,  3.9198e-02,  2.0173e-02,  3.2119e-03,  5.5672e-02,\n",
      "          3.3346e-02,  1.2943e-02,  5.9475e-03,  8.4106e-04],\n",
      "        [ 6.2053e-03,  2.7231e-05,  3.0179e-03,  2.1802e-02, -1.6586e-02,\n",
      "         -1.9902e-02, -4.3624e-04,  1.5502e-02, -2.4223e-02, -2.5701e-02,\n",
      "          0.0000e+00, -3.1054e-02, -1.1230e-02, -1.1391e-02, -3.5616e-02,\n",
      "          2.4835e-02,  1.2227e-03, -2.1181e-02, -9.1880e-03,  7.3737e-03,\n",
      "          9.4253e-05, -1.8329e-03,  9.9948e-04,  1.3208e-02,  3.1575e-02,\n",
      "          2.5950e-02, -7.4246e-04,  3.1019e-03,  0.0000e+00,  3.8367e-03,\n",
      "         -2.7997e-02,  0.0000e+00,  1.4068e-03, -4.0000e-02, -6.0984e-03,\n",
      "          1.5216e-02, -8.4576e-03,  1.0739e-03,  3.3822e-04, -1.9963e-02,\n",
      "          1.9741e-05,  1.2950e-03, -7.4448e-04,  1.5723e-02, -4.2373e-02,\n",
      "         -6.9569e-03, -1.1088e-03, -3.2324e-02, -8.3363e-03,  0.0000e+00,\n",
      "          6.8517e-03,  6.4639e-04,  5.2251e-04, -1.2263e-02,  2.1856e-02,\n",
      "          2.1213e-04, -8.5365e-03, -7.2091e-03,  2.9874e-03, -3.2085e-02,\n",
      "         -1.9779e-02, -1.4010e-03,  1.7353e-03,  7.4165e-04],\n",
      "        [-9.5806e-03,  2.9199e-05, -8.2493e-03, -2.9629e-02,  3.0311e-03,\n",
      "          4.1857e-03,  4.4140e-04, -5.0612e-02,  1.1278e-02,  4.9146e-02,\n",
      "          0.0000e+00,  2.9665e-02, -2.4433e-02,  3.8647e-02,  3.6559e-02,\n",
      "         -2.5660e-02, -5.6641e-03,  5.6725e-03,  8.0386e-03, -3.1480e-02,\n",
      "          1.0393e-04, -3.7931e-04, -3.3698e-03, -3.7806e-03, -8.9373e-02,\n",
      "         -1.6084e-02, -7.4288e-02, -8.5527e-03,  0.0000e+00, -3.7710e-04,\n",
      "          3.1921e-02,  0.0000e+00,  1.2257e-03,  2.3239e-02,  3.1425e-03,\n",
      "         -3.5018e-02,  2.6007e-02, -2.8788e-03, -2.0078e-03, -6.0217e-02,\n",
      "          2.0697e-05,  2.5688e-03, -5.1412e-02, -2.1639e-02,  1.5337e-02,\n",
      "          4.5860e-03,  8.1613e-03,  3.0955e-02,  6.4850e-04,  0.0000e+00,\n",
      "         -2.5471e-02,  6.5123e-04, -2.9489e-02,  2.7988e-02, -5.8797e-02,\n",
      "         -5.9081e-03, -7.0447e-03,  1.9466e-02,  2.3204e-03,  2.7363e-02,\n",
      "          3.1617e-02,  1.5811e-02, -1.8168e-02,  7.7679e-04],\n",
      "        [-1.6547e-02,  2.7306e-05,  6.0180e-03,  6.5375e-03, -3.0420e-02,\n",
      "         -9.1477e-04,  2.2352e-04, -5.7168e-02, -4.5555e-03,  4.7334e-03,\n",
      "          0.0000e+00, -6.9409e-03,  2.0162e-02, -3.0133e-02, -1.5217e-02,\n",
      "          5.4791e-03,  1.2550e-03, -1.7852e-02,  5.2235e-03, -3.6864e-02,\n",
      "         -9.1129e-04, -3.9615e-03, -3.9718e-03, -4.4104e-04,  1.8237e-02,\n",
      "         -3.4678e-02, -1.2786e-02, -3.8426e-03,  0.0000e+00, -9.7612e-04,\n",
      "         -3.6931e-02,  0.0000e+00,  1.5356e-03, -8.0312e-04,  3.1779e-03,\n",
      "         -2.5488e-02,  3.7886e-02, -2.4188e-03,  3.6765e-04, -3.7792e-03,\n",
      "          1.9803e-05,  2.6567e-03,  1.8944e-02,  7.7033e-03,  4.9559e-02,\n",
      "          3.1258e-03,  5.8842e-03, -3.8606e-02, -1.0534e-03,  0.0000e+00,\n",
      "         -4.3410e-02,  6.8610e-04,  3.0147e-02,  1.6550e-02,  3.0201e-02,\n",
      "         -2.0753e-03,  1.2240e-03, -9.7396e-03,  3.2753e-03,  2.7396e-02,\n",
      "         -1.6559e-02, -7.0746e-03, -2.5654e-02,  8.0168e-04],\n",
      "        [-3.1125e-03,  2.8355e-05, -1.1076e-02, -3.1111e-02, -1.3326e-02,\n",
      "          4.4329e-03,  4.5321e-04, -1.0981e-01,  6.9625e-04,  1.0028e-02,\n",
      "          0.0000e+00, -3.4470e-02, -4.1586e-03,  3.2933e-02,  3.0909e-02,\n",
      "         -3.8615e-02, -4.7525e-04, -3.9362e-02,  1.0428e-02, -1.8379e-02,\n",
      "          9.8818e-05,  5.0015e-03,  1.1324e-04,  2.1568e-02, -7.7738e-02,\n",
      "         -7.6131e-02, -5.9970e-02,  8.4774e-04,  0.0000e+00, -2.6913e-02,\n",
      "          2.0863e-02,  0.0000e+00,  1.5423e-03,  9.8540e-03,  3.2460e-03,\n",
      "         -3.2751e-02, -5.6663e-02,  1.0934e-03,  3.6540e-04, -7.9200e-02,\n",
      "          1.9558e-05, -1.5326e-02, -9.9251e-03,  1.3677e-02, -2.9112e-02,\n",
      "          4.8866e-03,  8.5391e-03, -2.3850e-03,  6.0936e-03,  0.0000e+00,\n",
      "         -9.6755e-02,  6.8855e-04, -7.6921e-02,  1.0359e-02,  1.2184e-02,\n",
      "         -6.1179e-03, -3.9812e-02,  2.0518e-02, -1.1771e-03, -4.8120e-02,\n",
      "         -1.3333e-02, -1.8334e-03, -2.2268e-02,  8.2323e-04]])\n"
     ]
    }
   ],
   "source": [
    "print('Initial weights : ',model[4].weight)\n",
    "print('Initial weights gradient : ',model[4].weight.grad)"
   ]
  },
  {
   "cell_type": "code",
   "execution_count": null,
   "metadata": {},
   "outputs": [],
   "source": []
  }
 ],
 "metadata": {
  "kernelspec": {
   "display_name": "Python 3",
   "language": "python",
   "name": "python3"
  },
  "language_info": {
   "codemirror_mode": {
    "name": "ipython",
    "version": 3
   },
   "file_extension": ".py",
   "mimetype": "text/x-python",
   "name": "python",
   "nbconvert_exporter": "python",
   "pygments_lexer": "ipython3",
   "version": "3.6.5"
  }
 },
 "nbformat": 4,
 "nbformat_minor": 2
}
